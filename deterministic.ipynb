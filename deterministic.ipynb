{
 "cells": [
  {
   "cell_type": "code",
   "execution_count": 1,
   "metadata": {},
   "outputs": [],
   "source": [
    "import time \n",
    "import numpy as np \n",
    "from collections import deque\n",
    "from IPython.display import clear_output\n",
    "\n",
    "from utils.gridworld import *"
   ]
  },
  {
   "cell_type": "code",
   "execution_count": 2,
   "metadata": {},
   "outputs": [],
   "source": [
    "class queue:\n",
    "\n",
    "    def __init__(self):\n",
    "        self.elements = deque()\n",
    "\n",
    "    def is_empty(self): \n",
    "        return not self.elements\n",
    "    \n",
    "    def put(self, x):\n",
    "        return self.elements.append(x)\n",
    "\n",
    "    def get(self):\n",
    "        return self.elements.popleft()"
   ]
  },
  {
   "cell_type": "markdown",
   "metadata": {},
   "source": [
    "## 1. Deterministic Search"
   ]
  },
  {
   "cell_type": "code",
   "execution_count": 3,
   "metadata": {},
   "outputs": [],
   "source": [
    "def breadth_first_search(graph, start, goal=None, viz=True, delay=.1):\n",
    "    frontier = queue()\n",
    "    frontier.put(start)\n",
    "    came_from = {}\n",
    "    came_from[start] = None\n",
    "    \n",
    "    while not frontier.is_empty():\n",
    "        clear_output(True)\n",
    "        to_visit = list(frontier.elements).copy()\n",
    "        if viz:\n",
    "            draw_grid(graph, point_to=came_from, \n",
    "                             start=start, \n",
    "                             to_visit=to_visit,\n",
    "                             goal=goal)\n",
    "        curr_node = frontier.get()\n",
    "        if curr_node == goal: break\n",
    "        for next in graph.neighbors(curr_node):\n",
    "            if next not in came_from:\n",
    "                frontier.put(next)\n",
    "                came_from[next] = curr_node\n",
    "        time.sleep(delay)\n",
    "    \n",
    "    return came_from"
   ]
  },
  {
   "cell_type": "code",
   "execution_count": 4,
   "metadata": {},
   "outputs": [],
   "source": [
    "def show_solution(env, parents, start, goal):\n",
    "    clear_output(True)\n",
    "    print(f'{int(env.width*2/5)*\"***\"}     Solution     {int(env.width*2/5)*\"***\"}')\n",
    "    tar_pth = reconstruct_path(parents, start, goal)\n",
    "    for key in list(parents.keys()):\n",
    "        if key not in tar_pth: del parents[key]\n",
    "    draw_grid(env, point_to=parents, start=start, goal=goal)"
   ]
  },
  {
   "cell_type": "code",
   "execution_count": 5,
   "metadata": {},
   "outputs": [
    {
     "name": "stdout",
     "output_type": "stream",
     "text": [
      "------------------------------------------------------------------------------------------\n",
      " .  ?  ←  ↑  ↑  ↑  ↑  ↑  ↑  ↑  ↑  ↑  ↑  ↑  ↑  ↑  ?  .  .  .  . ###### .  .  .  .  .  .  . \n",
      " ?  ←  ←  ←  ↑  ↑  ↑  ↑  ↑  ↑  ↑  ↑  ↑  ↑  ↑  →  →  ?  .  .  . ###### .  .  .  .  .  .  . \n",
      " ←  ←  ←  ←  ←  ↑  ↑  ↑  ↑  ↑  ↑  ↑  ↑  ↑  →  →  →  G  .  .  . ###### .  .  .  .  .  .  . \n",
      " ?  ←  ↓ ###### ↑  ↑  ↑  ↑  ↑  ↑  ↑  ↑  →  →  →  →  →  ?  .  . ###### .  .  .  .  .  .  . \n",
      " .  ?  ↓ ###### ↑  ↑  ↑  ↑  ↑  ↑  ↑  → ###### ↓  →  ?  .  .  . ###### .  .  .  .  .  .  . \n",
      " .  .  ? ###### ←  ↑  ↑  ↑  ↑  ↑  →  → ###### ↓  ?  .  .  .  . ############### .  .  .  . \n",
      " .  .  . ###### ←  ←  ↑  ↑  ↑  →  →  → ###### ?  .  .  .  .  . ############### .  .  .  . \n",
      " .  .  . ###### ←  ←  ←  S  →  →  →  → ###### .  .  .  .  .  .  .  .  .  .  .  .  .  .  . \n",
      " .  .  . ###### ←  ←  ↓  ↓  ↓  →  →  → ###### .  .  .  .  .  .  .  .  .  .  .  .  .  .  . \n",
      " .  .  ? ###### ←  ↓  ↓  ↓  ↓  ↓  →  → ###### .  .  .  .  .  .  .  .  .  .  .  .  .  .  . \n",
      " .  ?  ↑ ###### ↓  ↓  ↓  ↓  ↓  ↓  ↓  → ###### .  .  .  .  .  .  .  .  .  .  .  .  .  .  . \n",
      " ?  ←  ↑ ###### ↓  ↓  ↓  ↓  ↓  ↓  ↓  ↓ ###### .  .  .  .  .  .  .  .  .  .  .  .  .  .  . \n",
      " ←  ←  ←  ←  ←  ↓  ↓  ↓  ↓  ↓  ↓  ↓  ↓ ###### .  .  .  .  .  .  .  .  .  .  .  .  .  .  . \n",
      " ?  ←  ←  ←  ↓  ↓  ↓  ↓  ↓  ↓  ↓  ↓  ↓ ###### .  .  .  .  .  .  .  .  .  .  .  .  .  .  . \n",
      " .  ?  ←  ↓  ↓  ↓  ↓  ↓  ↓  ↓  ↓  ↓  ↓ ###### .  .  .  .  .  .  .  .  .  .  .  .  .  .  . \n",
      "------------------------------------------------------------------------------------------\n"
     ]
    }
   ],
   "source": [
    "env = grid_world()\n",
    "start, goal = (8, 7), (17, 2)\n",
    "parents = breadth_first_search(env, start, goal)\n"
   ]
  },
  {
   "cell_type": "code",
   "execution_count": 6,
   "metadata": {},
   "outputs": [
    {
     "name": "stdout",
     "output_type": "stream",
     "text": [
      "************************************     Solution     ************************************\n",
      "------------------------------------------------------------------------------------------\n",
      " .  .  .  .  .  .  .  .  .  .  .  .  .  .  .  .  .  .  .  .  . ###### .  .  .  .  .  .  . \n",
      " .  .  .  .  .  .  .  .  .  .  .  .  .  .  .  .  .  .  .  .  . ###### .  .  .  .  .  .  . \n",
      " .  .  .  .  .  .  .  .  .  .  .  .  .  ↑  →  →  →  G  .  .  . ###### .  .  .  .  .  .  . \n",
      " .  .  . ###### .  .  .  .  .  .  .  ↑  →  .  .  .  .  .  .  . ###### .  .  .  .  .  .  . \n",
      " .  .  . ###### .  .  .  .  .  .  ↑  → ###### .  .  .  .  .  . ###### .  .  .  .  .  .  . \n",
      " .  .  . ###### .  .  .  .  .  ↑  →  . ###### .  .  .  .  .  . ############### .  .  .  . \n",
      " .  .  . ###### .  .  .  .  ↑  →  .  . ###### .  .  .  .  .  . ############### .  .  .  . \n",
      " .  .  . ###### .  .  .  S  →  .  .  . ###### .  .  .  .  .  .  .  .  .  .  .  .  .  .  . \n",
      " .  .  . ###### .  .  .  .  .  .  .  . ###### .  .  .  .  .  .  .  .  .  .  .  .  .  .  . \n",
      " .  .  . ###### .  .  .  .  .  .  .  . ###### .  .  .  .  .  .  .  .  .  .  .  .  .  .  . \n",
      " .  .  . ###### .  .  .  .  .  .  .  . ###### .  .  .  .  .  .  .  .  .  .  .  .  .  .  . \n",
      " .  .  . ###### .  .  .  .  .  .  .  . ###### .  .  .  .  .  .  .  .  .  .  .  .  .  .  . \n",
      " .  .  .  .  .  .  .  .  .  .  .  .  . ###### .  .  .  .  .  .  .  .  .  .  .  .  .  .  . \n",
      " .  .  .  .  .  .  .  .  .  .  .  .  . ###### .  .  .  .  .  .  .  .  .  .  .  .  .  .  . \n",
      " .  .  .  .  .  .  .  .  .  .  .  .  . ###### .  .  .  .  .  .  .  .  .  .  .  .  .  .  . \n",
      "------------------------------------------------------------------------------------------\n"
     ]
    }
   ],
   "source": [
    "show_solution(env, parents, start, goal)"
   ]
  },
  {
   "cell_type": "markdown",
   "metadata": {},
   "source": [
    "## 2. Breadth-first search "
   ]
  },
  {
   "cell_type": "code",
   "execution_count": 7,
   "metadata": {},
   "outputs": [],
   "source": [
    "def depth_first_search(graph, start, goal=False, viz=True, delay=.1):\n",
    "    to_visit = [start]\n",
    "    came_from = {}\n",
    "    prev_node = None\n",
    "\n",
    "    while len(to_visit):\n",
    "        clear_output(True)\n",
    "        if viz:\n",
    "            draw_grid(graph, point_to=came_from, \n",
    "                             start=start, \n",
    "                             to_visit=to_visit,\n",
    "                             goal=goal)\n",
    "        curr_node = to_visit.pop()\n",
    "        came_from[curr_node] = prev_node\n",
    "        if curr_node == goal: break\n",
    "        for next in graph.neighbors(curr_node):\n",
    "            if (next not in came_from.keys()) and (next not in to_visit):\n",
    "                to_visit.append(next)\n",
    "        prev_node = curr_node\n",
    "        time.sleep(delay)\n",
    "\n",
    "    return came_from\n"
   ]
  },
  {
   "cell_type": "markdown",
   "metadata": {},
   "source": [
    "## 2. Depth-first search "
   ]
  },
  {
   "cell_type": "code",
   "execution_count": 8,
   "metadata": {},
   "outputs": [
    {
     "name": "stdout",
     "output_type": "stream",
     "text": [
      "------------------------------------------------------------------------------------------\n",
      " .  .  .  .  .  .  .  .  .  .  .  ?  ↑  →  →  →  ?  .  .  .  . ###### .  .  .  .  .  .  . \n",
      " .  .  .  .  .  .  .  .  .  .  ?  ↑  →  ?  ?  ↓  →  ?  .  .  . ###### .  .  .  .  .  .  . \n",
      " .  .  .  .  .  .  .  .  .  ?  ↑  →  ?  .  .  ?  ↓  G  .  .  . ###### .  .  .  .  .  .  . \n",
      " .  .  . ###### .  .  .  ?  ↑  →  ?  .  .  .  .  ?  .  .  .  . ###### .  .  .  .  .  .  . \n",
      " .  .  . ###### .  .  ?  ↑  →  ?  .  . ###### .  .  .  .  .  . ###### .  .  .  .  .  .  . \n",
      " .  .  . ###### .  ?  ↑  →  ?  .  .  . ###### .  .  .  .  .  . ############### .  .  .  . \n",
      " .  .  . ###### ?  ↑  →  ?  .  .  .  . ###### .  .  .  .  .  . ############### .  .  .  . \n",
      " .  .  . ###### ↑  →  ?  S  ?  .  .  . ###### .  .  .  .  .  .  .  .  .  .  .  .  .  .  . \n",
      " .  .  . ###### ↑  ?  ?  ↓  →  ?  .  . ###### .  .  .  .  .  .  .  .  .  .  .  .  .  .  . \n",
      " .  .  . ###### ↑  ?  .  ?  ↓  →  ?  . ###### .  .  .  .  .  .  .  .  .  .  .  .  .  .  . \n",
      " .  .  . ###### ←  ↑  ?  .  ?  ↓  →  ? ###### .  .  .  .  .  .  .  .  .  .  .  .  .  .  . \n",
      " .  .  . ###### ?  ←  ↑  ?  .  ?  ↓  → ###### .  .  .  .  .  .  .  .  .  .  .  .  .  .  . \n",
      " .  .  .  .  .  .  ?  ←  ↑  ?  .  ?  ↓ ###### .  .  .  .  .  .  .  .  .  .  .  .  .  .  . \n",
      " .  .  .  .  .  .  .  ?  ←  ↑  ?  ?  ↓ ###### .  .  .  .  .  .  .  .  .  .  .  .  .  .  . \n",
      " .  .  .  .  .  .  .  .  ?  ←  ←  ←  ↓ ###### .  .  .  .  .  .  .  .  .  .  .  .  .  .  . \n",
      "------------------------------------------------------------------------------------------\n"
     ]
    }
   ],
   "source": [
    "env = grid_world()\n",
    "start, goal = (8, 7), (17, 2)\n",
    "parents = depth_first_search(env, start, goal)\n"
   ]
  },
  {
   "cell_type": "code",
   "execution_count": 9,
   "metadata": {},
   "outputs": [
    {
     "name": "stdout",
     "output_type": "stream",
     "text": [
      "************************************     Solution     ************************************\n",
      "------------------------------------------------------------------------------------------\n",
      " .  .  .  .  .  .  .  .  .  .  .  .  ↑  →  →  →  .  .  .  .  . ###### .  .  .  .  .  .  . \n",
      " .  .  .  .  .  .  .  .  .  .  .  ↑  →  .  .  ↓  →  .  .  .  . ###### .  .  .  .  .  .  . \n",
      " .  .  .  .  .  .  .  .  .  .  ↑  →  .  .  .  .  ↓  G  .  .  . ###### .  .  .  .  .  .  . \n",
      " .  .  . ###### .  .  .  .  ↑  →  .  .  .  .  .  .  .  .  .  . ###### .  .  .  .  .  .  . \n",
      " .  .  . ###### .  .  .  ↑  →  .  .  . ###### .  .  .  .  .  . ###### .  .  .  .  .  .  . \n",
      " .  .  . ###### .  .  ↑  →  .  .  .  . ###### .  .  .  .  .  . ############### .  .  .  . \n",
      " .  .  . ###### .  ↑  →  .  .  .  .  . ###### .  .  .  .  .  . ############### .  .  .  . \n",
      " .  .  . ###### ↑  →  .  S  .  .  .  . ###### .  .  .  .  .  .  .  .  .  .  .  .  .  .  . \n",
      " .  .  . ###### ↑  .  .  ↓  →  .  .  . ###### .  .  .  .  .  .  .  .  .  .  .  .  .  .  . \n",
      " .  .  . ###### ↑  .  .  .  ↓  →  .  . ###### .  .  .  .  .  .  .  .  .  .  .  .  .  .  . \n",
      " .  .  . ###### ←  ↑  .  .  .  ↓  →  . ###### .  .  .  .  .  .  .  .  .  .  .  .  .  .  . \n",
      " .  .  . ###### .  ←  ↑  .  .  .  ↓  → ###### .  .  .  .  .  .  .  .  .  .  .  .  .  .  . \n",
      " .  .  .  .  .  .  .  ←  ↑  .  .  .  ↓ ###### .  .  .  .  .  .  .  .  .  .  .  .  .  .  . \n",
      " .  .  .  .  .  .  .  .  ←  ↑  .  .  ↓ ###### .  .  .  .  .  .  .  .  .  .  .  .  .  .  . \n",
      " .  .  .  .  .  .  .  .  .  ←  ←  ←  ↓ ###### .  .  .  .  .  .  .  .  .  .  .  .  .  .  . \n",
      "------------------------------------------------------------------------------------------\n"
     ]
    }
   ],
   "source": [
    "show_solution(env, parents, start, goal)"
   ]
  },
  {
   "cell_type": "markdown",
   "metadata": {},
   "source": [
    "## 3. Lookahead & heuristic \n",
    "\n",
    "a quick-and-dirty estimate of the distance or cost separating a state from a goal state"
   ]
  },
  {
   "cell_type": "code",
   "execution_count": 10,
   "metadata": {},
   "outputs": [],
   "source": [
    "class heurstic:\n",
    "\n",
    "    def __init__(self, graph):\n",
    "        self.graph = graph\n",
    "\n",
    "    def cost(self, curr_node, goal): \n",
    "        raise NotImplementedError"
   ]
  },
  {
   "cell_type": "code",
   "execution_count": 11,
   "metadata": {},
   "outputs": [],
   "source": [
    "class l1_dist(heurstic):\n",
    "    name = 'Manhattan'\n",
    "\n",
    "    def cost(self, curr_node, goal): \n",
    "        gap = np.array(curr_node) - np.array(goal)\n",
    "        return np.sum(np.abs(gap))\n",
    "    \n",
    "class l2_dist(heurstic):\n",
    "    name = 'Euclidean'\n",
    "\n",
    "    def cost(self, curr_node, goal): \n",
    "        gap = np.array(curr_node) - np.array(goal)\n",
    "        return np.sqrt(np.sum(np.square(gap)))\n",
    "    \n",
    "class random_rollout(heurstic):\n",
    "    name = 'Random rollout'\n",
    "\n",
    "    def __init__(self, graph, max_rollout=100, n_sample=10, seed=1234):\n",
    "        super().__init__(graph)\n",
    "        self.max_rollout = max_rollout\n",
    "        self.n_sample = n_sample\n",
    "        self.rng = np.random.RandomState(seed)\n",
    "\n",
    "    def rollout_policy(self, lst):\n",
    "        return self.rng.choice(lst)\n",
    "    \n",
    "    def cost(self, curr_node, goal): \n",
    "        cost = 0 \n",
    "        for _ in range(self.n_sample):\n",
    "            pos = curr_node\n",
    "            n_rollout = 0 \n",
    "            while True:\n",
    "                poss_next = list(self.graph.neighbors(pos))\n",
    "                pos = poss_next[self.rollout_policy(len(poss_next))]\n",
    "                if (pos==goal) or (n_rollout==self.max_rollout): break\n",
    "                n_rollout += 1\n",
    "            cost += n_rollout/self.n_sample \n",
    "        return cost\n",
    "    \n",
    "def eval_heuristic(graph, curr_node, goal, h):\n",
    "    measurement = h(graph)\n",
    "    x, y = curr_node\n",
    "    directs = ['up', 'down', 'left', 'right']\n",
    "    corrds  = [(x, y-1), (x, y+1), (x-1, y), (x+1, y)]\n",
    "    print(f'\\n{measurement.name}')\n",
    "    for c, d in zip(corrds, directs):\n",
    "        cost = measurement.cost(c, goal)\n",
    "        print(f'\\t{d}: {cost:.1f}')"
   ]
  },
  {
   "cell_type": "code",
   "execution_count": 12,
   "metadata": {},
   "outputs": [
    {
     "name": "stdout",
     "output_type": "stream",
     "text": [
      "------------------------\n",
      " .  .  .  .  .  .  .  . \n",
      " .  .  .  .  .  .  .  . \n",
      " .  .  .  S  .  .  .  . \n",
      " .  .  .  .  .  .  .  . \n",
      " .  .  .  .  .  .  .  . \n",
      " .  G  .  .  .  .  .  . \n",
      " .  .  .  .  .  .  .  . \n",
      " .  .  .  .  .  .  .  . \n",
      "------------------------\n"
     ]
    }
   ],
   "source": [
    "env = grid_world('box')\n",
    "start, goal = (3, 2), (1, 5)\n",
    "draw_grid(env, start=start, goal=goal)"
   ]
  },
  {
   "cell_type": "code",
   "execution_count": 13,
   "metadata": {},
   "outputs": [
    {
     "name": "stdout",
     "output_type": "stream",
     "text": [
      "\n",
      "Manhattan\n",
      "\tup: 6.0\n",
      "\tdown: 4.0\n",
      "\tleft: 4.0\n",
      "\tright: 6.0\n",
      "\n",
      "Euclidean\n",
      "\tup: 4.5\n",
      "\tdown: 2.8\n",
      "\tleft: 3.2\n",
      "\tright: 4.2\n",
      "\n",
      "Random rollout\n",
      "\tup: 71.8\n",
      "\tdown: 60.4\n",
      "\tleft: 68.3\n",
      "\tright: 54.3\n"
     ]
    }
   ],
   "source": [
    "for h in [l1_dist, l2_dist, random_rollout]:\n",
    "    eval_heuristic(env, start, goal, h=h)"
   ]
  },
  {
   "cell_type": "code",
   "execution_count": 14,
   "metadata": {},
   "outputs": [
    {
     "name": "stdout",
     "output_type": "stream",
     "text": [
      "------------------------\n",
      " .  .  .  .  .  .  .  . \n",
      " .  .  .  .  .  .  .  . \n",
      " .  S  . ### .  .  .  . \n",
      " .  .  . ### .  .  .  . \n",
      "############ .  .  .  . \n",
      " .  G  .  .  .  .  .  . \n",
      " .  .  .  .  .  .  .  . \n",
      " .  .  .  .  .  .  .  . \n",
      "------------------------\n"
     ]
    }
   ],
   "source": [
    "env = grid_world('river')\n",
    "start, goal = (1, 2), (1, 5)\n",
    "draw_grid(env, start=start, goal=goal)"
   ]
  },
  {
   "cell_type": "code",
   "execution_count": 15,
   "metadata": {},
   "outputs": [
    {
     "name": "stdout",
     "output_type": "stream",
     "text": [
      "\n",
      "Manhattan\n",
      "\tup: 4.0\n",
      "\tdown: 2.0\n",
      "\tleft: 4.0\n",
      "\tright: 4.0\n",
      "\n",
      "Euclidean\n",
      "\tup: 4.0\n",
      "\tdown: 2.0\n",
      "\tleft: 3.2\n",
      "\tright: 3.2\n",
      "\n",
      "Random rollout\n",
      "\tup: 99.9\n",
      "\tdown: 100.0\n",
      "\tleft: 98.9\n",
      "\tright: 86.0\n"
     ]
    }
   ],
   "source": [
    "for h in [l1_dist, l2_dist, random_rollout]:\n",
    "    eval_heuristic(env, start, goal, h=h)"
   ]
  },
  {
   "cell_type": "markdown",
   "metadata": {},
   "source": [
    "## 4. Best-first search"
   ]
  },
  {
   "cell_type": "code",
   "execution_count": 16,
   "metadata": {},
   "outputs": [],
   "source": [
    "class priority_queue:\n",
    "\n",
    "    def __init__(self):\n",
    "        self.elements = list()\n",
    "        self.values = list()\n",
    "\n",
    "    def is_empty(self): return not self.elements\n",
    "    \n",
    "    def put(self, x, v):\n",
    "        self.elements.append(x)\n",
    "        self.values.append(v)\n",
    "        ind = list(reversed(np.argsort(self.values)))\n",
    "        self.elements = [self.elements[i] for i in ind]\n",
    "        self.values   = [self.values[i] for i in ind]\n",
    "\n",
    "    def get(self):\n",
    "        item = self.elements.pop(0)\n",
    "        value = self.values.pop(0)\n",
    "        return item, value\n",
    "    \n",
    "    def peek(self, n=3):\n",
    "        return self.elements[:n], self.values[:n]"
   ]
  },
  {
   "cell_type": "code",
   "execution_count": 17,
   "metadata": {},
   "outputs": [],
   "source": [
    "def best_first_search(graph, start, goal=None, viz=True, \n",
    "                     huer=l1_dist, delay=.1):\n",
    "    measurement = huer(graph)\n",
    "    frontier = priority_queue()\n",
    "    value = -measurement.cost(start, goal)\n",
    "    frontier.put(start, value)\n",
    "    came_from = {}\n",
    "    came_from[start] = None\n",
    "    \n",
    "    while not frontier.is_empty():\n",
    "        clear_output(True)\n",
    "        to_visit = list(frontier.elements).copy()\n",
    "        n_best, _  = frontier.peek()\n",
    "        if viz:\n",
    "            draw_grid(graph, point_to=came_from, \n",
    "                             start=start, \n",
    "                             to_visit=to_visit,\n",
    "                             goal=goal,\n",
    "                             n_best=n_best)\n",
    "        curr_node, _ = frontier.get()\n",
    "        if curr_node == goal: break\n",
    "        for next in graph.neighbors(curr_node):\n",
    "            if next not in came_from:\n",
    "                value = -measurement.cost(next, goal)\n",
    "                frontier.put(next, value)\n",
    "                came_from[next] = curr_node\n",
    "        time.sleep(delay)\n",
    "    \n",
    "    return came_from"
   ]
  },
  {
   "cell_type": "code",
   "execution_count": 18,
   "metadata": {},
   "outputs": [
    {
     "name": "stdout",
     "output_type": "stream",
     "text": [
      "------------------------------------------------------------------------------------------\n",
      " .  .  .  .  .  .  .  .  .  .  .  .  .  .  .  .  .  .  .  .  . ###### .  .  .  .  .  .  . \n",
      " .  .  .  .  .  .  .  .  .  .  .  .  ?  ?  ?  ?  3  .  .  .  . ###### .  .  .  .  .  .  . \n",
      " .  .  .  .  .  .  .  .  .  .  .  ?  ↑  →  →  →  →  G  .  .  . ###### .  .  .  .  .  .  . \n",
      " .  .  . ###### .  .  .  .  .  .  ?  ↑  ?  ?  ?  2  .  .  .  . ###### .  .  .  .  .  .  . \n",
      " .  .  . ###### .  .  .  .  .  .  ?  ↑ ###### .  .  .  .  .  . ###### .  .  .  .  .  .  . \n",
      " .  .  . ###### .  .  .  .  .  .  ?  ↑ ###### .  .  .  .  .  . ############### .  .  .  . \n",
      " .  .  . ###### .  .  .  ?  ?  ?  ?  ↑ ###### .  .  .  .  .  . ############### .  .  .  . \n",
      " .  .  . ###### .  .  ?  S  →  →  →  → ###### .  .  .  .  .  .  .  .  .  .  .  .  .  .  . \n",
      " .  .  . ###### .  .  .  ?  ?  ?  ?  ? ###### .  .  .  .  .  .  .  .  .  .  .  .  .  .  . \n",
      " .  .  . ###### .  .  .  .  .  .  .  . ###### .  .  .  .  .  .  .  .  .  .  .  .  .  .  . \n",
      " .  .  . ###### .  .  .  .  .  .  .  . ###### .  .  .  .  .  .  .  .  .  .  .  .  .  .  . \n",
      " .  .  . ###### .  .  .  .  .  .  .  . ###### .  .  .  .  .  .  .  .  .  .  .  .  .  .  . \n",
      " .  .  .  .  .  .  .  .  .  .  .  .  . ###### .  .  .  .  .  .  .  .  .  .  .  .  .  .  . \n",
      " .  .  .  .  .  .  .  .  .  .  .  .  . ###### .  .  .  .  .  .  .  .  .  .  .  .  .  .  . \n",
      " .  .  .  .  .  .  .  .  .  .  .  .  . ###### .  .  .  .  .  .  .  .  .  .  .  .  .  .  . \n",
      "------------------------------------------------------------------------------------------\n",
      "------------------------------------------------------------------------------------------\n",
      " .  .  .  .  .  .  .  .  .  .  .  .  .  .  .  .  .  .  .  .  . ###### .  .  .  .  .  .  . \n",
      " .  .  .  .  .  .  .  .  .  .  .  .  .  .  .  .  .  .  .  .  . ###### .  .  .  .  .  .  . \n",
      " .  .  .  .  .  .  .  .  .  .  .  .  ↑  →  →  →  →  G  .  .  . ###### .  .  .  .  .  .  . \n",
      " .  .  . ###### .  .  .  .  .  .  .  ↑  .  .  .  .  .  .  .  . ###### .  .  .  .  .  .  . \n",
      " .  .  . ###### .  .  .  .  .  .  .  ↑ ###### .  .  .  .  .  . ###### .  .  .  .  .  .  . \n",
      " .  .  . ###### .  .  .  .  .  .  .  ↑ ###### .  .  .  .  .  . ############### .  .  .  . \n",
      " .  .  . ###### .  .  .  .  .  .  .  ↑ ###### .  .  .  .  .  . ############### .  .  .  . \n",
      " .  .  . ###### .  .  .  S  →  →  →  → ###### .  .  .  .  .  .  .  .  .  .  .  .  .  .  . \n",
      " .  .  . ###### .  .  .  .  .  .  .  . ###### .  .  .  .  .  .  .  .  .  .  .  .  .  .  . \n",
      " .  .  . ###### .  .  .  .  .  .  .  . ###### .  .  .  .  .  .  .  .  .  .  .  .  .  .  . \n",
      " .  .  . ###### .  .  .  .  .  .  .  . ###### .  .  .  .  .  .  .  .  .  .  .  .  .  .  . \n",
      " .  .  . ###### .  .  .  .  .  .  .  . ###### .  .  .  .  .  .  .  .  .  .  .  .  .  .  . \n",
      " .  .  .  .  .  .  .  .  .  .  .  .  . ###### .  .  .  .  .  .  .  .  .  .  .  .  .  .  . \n",
      " .  .  .  .  .  .  .  .  .  .  .  .  . ###### .  .  .  .  .  .  .  .  .  .  .  .  .  .  . \n",
      " .  .  .  .  .  .  .  .  .  .  .  .  . ###### .  .  .  .  .  .  .  .  .  .  .  .  .  .  . \n",
      "------------------------------------------------------------------------------------------\n"
     ]
    }
   ],
   "source": [
    "env = grid_world()\n",
    "start, goal = (8, 7), (17, 2)\n",
    "parents = best_first_search(env, start, goal, \n",
    "                            huer=l1_dist,\n",
    "                            delay=.5)\n",
    "# get solution\n",
    "tar_pth = reconstruct_path(parents, start, goal)\n",
    "for key in list(parents.keys()):\n",
    "    if key not in tar_pth: del parents[key]\n",
    "draw_grid(env, point_to=parents, start=start, goal=goal)"
   ]
  },
  {
   "cell_type": "code",
   "execution_count": 19,
   "metadata": {},
   "outputs": [
    {
     "name": "stdout",
     "output_type": "stream",
     "text": [
      "------------------------------------------------------------------------------------------\n",
      " .  .  .  .  .  .  .  .  .  .  .  .  .  .  .  .  .  .  .  .  . ###### .  .  .  .  .  .  . \n",
      " .  .  .  .  .  .  .  .  .  .  .  .  .  .  .  .  3  .  .  .  . ###### .  .  .  .  .  .  . \n",
      " .  .  .  .  .  .  .  .  .  .  .  .  ?  ?  ?  ?  ↑  G  .  .  . ###### .  .  .  .  .  .  . \n",
      " .  .  . ###### .  .  .  .  .  .  ?  ↑  →  →  →  →  2  .  .  . ###### .  .  .  .  .  .  . \n",
      " .  .  . ###### .  .  .  .  .  .  ?  ↑ ###### ?  ?  .  .  .  . ###### .  .  .  .  .  .  . \n",
      " .  .  . ###### .  .  .  .  .  .  ?  ↑ ###### .  .  .  .  .  . ############### .  .  .  . \n",
      " .  .  . ###### .  .  .  ?  ?  ?  ?  ↑ ###### .  .  .  .  .  . ############### .  .  .  . \n",
      " .  .  . ###### .  .  ?  S  →  →  →  → ###### .  .  .  .  .  .  .  .  .  .  .  .  .  .  . \n",
      " .  .  . ###### .  .  .  ?  ?  ?  ?  ? ###### .  .  .  .  .  .  .  .  .  .  .  .  .  .  . \n",
      " .  .  . ###### .  .  .  .  .  .  .  . ###### .  .  .  .  .  .  .  .  .  .  .  .  .  .  . \n",
      " .  .  . ###### .  .  .  .  .  .  .  . ###### .  .  .  .  .  .  .  .  .  .  .  .  .  .  . \n",
      " .  .  . ###### .  .  .  .  .  .  .  . ###### .  .  .  .  .  .  .  .  .  .  .  .  .  .  . \n",
      " .  .  .  .  .  .  .  .  .  .  .  .  . ###### .  .  .  .  .  .  .  .  .  .  .  .  .  .  . \n",
      " .  .  .  .  .  .  .  .  .  .  .  .  . ###### .  .  .  .  .  .  .  .  .  .  .  .  .  .  . \n",
      " .  .  .  .  .  .  .  .  .  .  .  .  . ###### .  .  .  .  .  .  .  .  .  .  .  .  .  .  . \n",
      "------------------------------------------------------------------------------------------\n"
     ]
    }
   ],
   "source": [
    "env = grid_world()\n",
    "start, goal = (8, 7), (17, 2)\n",
    "parents = best_first_search(env, start, goal, \n",
    "                            huer=l2_dist,\n",
    "                            delay=.5)"
   ]
  },
  {
   "cell_type": "code",
   "execution_count": 20,
   "metadata": {},
   "outputs": [
    {
     "name": "stdout",
     "output_type": "stream",
     "text": [
      "------------------------------------------\n",
      " .  ?  ←  ←  ↑ ### .  .  .  .  .  .  .  . \n",
      " ?  ↑  ←  ↑  ↑ ### .  .  .  .  .  .  .  . \n",
      " ?  ←  ↑  ←  ↑ ### .  .  .  .  .  .  .  . \n",
      " ←  ↑  ↑  ↑  ↑ ### .  2  3  ?  ?  ?  ?  . \n",
      " ←  ←  ←  ←  ↑ ### G  ←  ←  ←  ←  ←  ↑  ? \n",
      " ←  ↓  ↓  ←  ↑ ##################### ↑  ? \n",
      " ↓  ←  ↓  ←  ←  ←  ←  S  →  →  →  →  →  ? \n",
      "------------------------------------------\n"
     ]
    }
   ],
   "source": [
    "env = grid_world('L')\n",
    "start, goal = (7, 6), (6, 4)\n",
    "draw_grid(env, start=start, goal=goal)\n",
    "parents = best_first_search(env, start, goal, \n",
    "                            huer=l1_dist,\n",
    "                            delay=.5)"
   ]
  },
  {
   "cell_type": "markdown",
   "metadata": {},
   "source": [
    "## 5. A* \n",
    "\n",
    "The highly successful A* (‘‘A-star’’) search algorithm (Hart et al., 1968), is to select nodes based \n",
    "* not only on the **heuristic value** of the candidate node \n",
    "* but also on the **cost separating the root** and the candidate node\n"
   ]
  },
  {
   "cell_type": "code",
   "execution_count": 21,
   "metadata": {},
   "outputs": [],
   "source": [
    "def A_star_search(graph, start, goal=None, viz=True, \n",
    "                         huer=l1_dist, split_cost=1, \n",
    "                         delay=.1):\n",
    "    came_from = {}\n",
    "    came_from[start] = None\n",
    "    split_cost_so_far = {}\n",
    "    split_cost_so_far[start] = 0\n",
    "    frontier = priority_queue()\n",
    "    measurement = huer(graph)\n",
    "    value = -measurement.cost(start, goal)\n",
    "    frontier.put(start, value)\n",
    "    \n",
    "    while not frontier.is_empty():\n",
    "        clear_output(True)\n",
    "        to_visit = list(frontier.elements).copy()\n",
    "        n_best, _  = frontier.peek()\n",
    "        if viz:\n",
    "            draw_grid(graph, point_to=came_from, \n",
    "                             start=start, \n",
    "                             to_visit=to_visit,\n",
    "                             goal=goal,\n",
    "                             n_best=n_best)\n",
    "        curr_node, _ = frontier.get()\n",
    "        if curr_node == goal: break\n",
    "        for next in graph.neighbors(curr_node):\n",
    "            new_cost = split_cost_so_far[curr_node] + split_cost\n",
    "            if next not in split_cost_so_far:\n",
    "                split_cost_so_far[next] = np.inf\n",
    "            if new_cost < split_cost_so_far[next]:\n",
    "                came_from[next] = curr_node\n",
    "                split_cost_so_far[next] = new_cost\n",
    "                value = -(new_cost + measurement.cost(next, goal))\n",
    "                frontier.put(next, value)\n",
    "        time.sleep(delay)\n",
    "    \n",
    "    return came_from"
   ]
  },
  {
   "cell_type": "code",
   "execution_count": 22,
   "metadata": {},
   "outputs": [
    {
     "name": "stdout",
     "output_type": "stream",
     "text": [
      "------------------------------------------\n",
      " .  .  .  .  ? ### .  .  .  .  .  .  .  . \n",
      " .  .  .  ?  ↑ ### .  .  .  .  .  .  .  . \n",
      " .  .  ?  ←  ↑ ### .  .  .  .  .  .  .  . \n",
      " .  ?  ←  ←  ↑ ### .  ?  ?  ?  ?  ?  ?  . \n",
      " ?  ←  ←  ←  ↑ ### G  ←  ←  ←  ←  ←  ↑  ? \n",
      " ?  ←  ←  ←  ↑ ##################### ↑  ? \n",
      " 3  ←  ←  ←  ←  ←  ←  S  →  →  →  →  →  2 \n",
      "------------------------------------------\n"
     ]
    }
   ],
   "source": [
    "env = grid_world('L')\n",
    "start, goal = (7, 6), (6, 4)\n",
    "draw_grid(env, start=start, goal=goal)\n",
    "parents = A_star_search(env, start, goal, \n",
    "                            huer=l1_dist,\n",
    "                            split_cost=1.2, \n",
    "                            delay=.5)"
   ]
  },
  {
   "cell_type": "markdown",
   "metadata": {},
   "source": [
    "#### Switch the heuristic from distance to random rollout"
   ]
  },
  {
   "cell_type": "code",
   "execution_count": 23,
   "metadata": {},
   "outputs": [
    {
     "name": "stdout",
     "output_type": "stream",
     "text": [
      "------------------------------------------\n",
      " ↑  →  →  →  ? ### .  .  .  .  .  .  .  . \n",
      " ↑  ?  ?  ↓  → ### 2  .  .  .  .  ?  .  . \n",
      " ↑  ?  .  ?  ↓ ### ↑  3  .  .  ?  ↑  ?  . \n",
      " ←  ↑  ?  ?  ↓ ### ←  ↑  ?  ?  ?  ↑  ?  . \n",
      " ?  ←  ↑  ?  ↓ ### G  ←  ←  ←  ←  ←  ↑  ? \n",
      " .  ?  ←  ↑  ? ##################### ↑  ? \n",
      " .  .  ?  ←  ←  ←  ←  S  →  →  →  →  →  ? \n",
      "------------------------------------------\n"
     ]
    }
   ],
   "source": [
    "env = grid_world('L')\n",
    "start, goal = (7, 6), (6, 4)\n",
    "draw_grid(env, start=start, goal=goal)\n",
    "parents = A_star_search(env, start, goal, \n",
    "                            huer=random_rollout,\n",
    "                            split_cost=0, \n",
    "                            delay=.5)"
   ]
  },
  {
   "cell_type": "code",
   "execution_count": 24,
   "metadata": {},
   "outputs": [
    {
     "name": "stdout",
     "output_type": "stream",
     "text": [
      "------------------------------------------\n",
      " .  .  .  .  . ### .  .  .  .  .  .  .  . \n",
      " .  .  .  .  . ### .  .  .  .  .  .  .  . \n",
      " .  .  .  .  . ### .  .  .  .  .  .  .  . \n",
      " .  .  .  .  . ### .  2  ?  3  ?  ?  ?  . \n",
      " .  .  .  .  . ### G  ←  ←  ←  ←  ←  ↑  ? \n",
      " .  .  .  .  . ##################### ↑  ? \n",
      " .  .  .  .  ?  ←  ←  S  →  →  →  →  →  ? \n",
      "------------------------------------------\n"
     ]
    }
   ],
   "source": [
    "env = grid_world('L')\n",
    "start, goal = (7, 6), (6, 4)\n",
    "draw_grid(env, start=start, goal=goal)\n",
    "parents = A_star_search(env, start, goal, \n",
    "                            huer=random_rollout,\n",
    "                            split_cost=1, \n",
    "                            delay=.5)"
   ]
  },
  {
   "cell_type": "markdown",
   "metadata": {},
   "source": [
    "#### The agent \"prune\" entrie branches of the tree during planning"
   ]
  }
 ],
 "metadata": {
  "kernelspec": {
   "display_name": "py3",
   "language": "python",
   "name": "python3"
  },
  "language_info": {
   "codemirror_mode": {
    "name": "ipython",
    "version": 3
   },
   "file_extension": ".py",
   "mimetype": "text/x-python",
   "name": "python",
   "nbconvert_exporter": "python",
   "pygments_lexer": "ipython3",
   "version": "3.8.3"
  }
 },
 "nbformat": 4,
 "nbformat_minor": 2
}
