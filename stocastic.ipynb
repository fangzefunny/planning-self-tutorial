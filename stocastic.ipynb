{
 "cells": [
  {
   "cell_type": "code",
   "execution_count": 1,
   "metadata": {},
   "outputs": [],
   "source": [
    "import numpy as np \n",
    "from scipy.special import softmax \n",
    "import time \n",
    "\n",
    "from IPython.display import clear_output\n",
    "%matplotlib inline\n",
    "%config InlineBackend.figure_format='retina'\n",
    "\n",
    "import matplotlib.pyplot as plt \n",
    "import seaborn as sns \n",
    "\n",
    "import sys \n",
    "sys.path.append(\"..\") \n",
    "from utils.gridworld import frozen_lake\n",
    "from utils.viz import viz \n",
    "viz.get_style()"
   ]
  },
  {
   "cell_type": "code",
   "execution_count": 4,
   "metadata": {},
   "outputs": [
    {
     "data": {
      "image/png": "[encoded data removed]",
      "text/plain": [
       "<Figure size 400x400 with 1 Axes>"
      ]
     },
     "metadata": {
      "image/png": {
       "height": 354,
       "width": 328
      }
     },
     "output_type": "display_data"
    }
   ],
   "source": [
    "# The frozen lake \n",
    "layout = [\n",
    "    \"S.......\",\n",
    "    \"........\",\n",
    "    \"...H..H.\",\n",
    "    \".....H..\",\n",
    "    \"...H....\",\n",
    "    \".HH...H.\",\n",
    "    \".H..H.H.\",\n",
    "    \"...H...G\"\n",
    "]\n",
    "env = frozen_lake(layout, eps=.2)\n",
    "env.reset()\n",
    "fig, ax = plt.subplots(1, 1, figsize=(4, 4))\n",
    "env.render(ax)"
   ]
  },
  {
   "cell_type": "markdown",
   "metadata": {},
   "source": [
    "## Dynmamic programming"
   ]
  },
  {
   "cell_type": "code",
   "execution_count": 7,
   "metadata": {},
   "outputs": [],
   "source": [
    "def value_iter(env, seed=1234, theta=1e-4, gamma=.99, show_update=False):\n",
    "    \n",
    "    rng = np.random.RandomState(seed)\n",
    "    # initialize V(s), arbitrarily except V(terminal)=0\n",
    "    V = rng.rand(env.nS) * 0.001\n",
    "    # except v(terminal) = 0\n",
    "    for s in env.s_termination:\n",
    "        V[s] = 0\n",
    "    # init policy \n",
    "    pi = np.zeros([env.nS, env.nA])\n",
    "    # loop until converge\n",
    "    while True:\n",
    "        delta = 0\n",
    "        for s in env.S:\n",
    "            v_old = V[s].copy()\n",
    "            q = np.zeros([env.nA])\n",
    "            for a in env.A:\n",
    "                p = env.p_s_next(s, a)\n",
    "                for s_next in env.S:\n",
    "                    r, done = env.r(s_next)\n",
    "                    q[a] += p[s_next]*(r + (1-done)*gamma*V[s_next])\n",
    "            V[s] = np.max(q)\n",
    "            pi[s] = np.eye(env.nA)[np.argmax(q)]\n",
    "            delta = np.max([delta, np.abs(V[s] - v_old)])\n",
    "\n",
    "        # visualize \n",
    "        if show_update:\n",
    "            _, axs = plt.subplots(1, 2, figsize=(8, 4))\n",
    "            clear_output(True)\n",
    "            ax = axs[0]\n",
    "            env.show_v(ax, V)\n",
    "            ax = axs[1]\n",
    "            env.show_pi(ax, pi)\n",
    "            time.sleep(.5)\n",
    "            plt.show()\n",
    "\n",
    "        # check convergence\n",
    "        if delta < theta: break \n",
    "\n",
    "    for s in env.s_termination:\n",
    "        V[s] = 0\n",
    "    return V, pi \n",
    "        "
   ]
  },
  {
   "cell_type": "code",
   "execution_count": 9,
   "metadata": {},
   "outputs": [],
   "source": [
    "seed = 1234 \n",
    "env = frozen_lake(seed=seed, eps=.2)\n",
    "env.reset()\n",
    "V2, pi2 = value_iter(env)\n",
    "fig, axs = plt.subplots(1, 2, figsize=(8, 4))\n",
    "ax = axs[0]\n",
    "env.show_v(ax, V2)\n",
    "ax = axs[1]\n",
    "env.show_pi(ax, pi2)"
   ]
  },
  {
   "cell_type": "code",
   "execution_count": null,
   "metadata": {},
   "outputs": [],
   "source": []
  }
 ],
 "metadata": {
  "kernelspec": {
   "display_name": "py3",
   "language": "python",
   "name": "python3"
  },
  "language_info": {
   "codemirror_mode": {
    "name": "ipython",
    "version": 3
   },
   "file_extension": ".py",
   "mimetype": "text/x-python",
   "name": "python",
   "nbconvert_exporter": "python",
   "pygments_lexer": "ipython3",
   "version": "3.8.3"
  }
 },
 "nbformat": 4,
 "nbformat_minor": 2
}
